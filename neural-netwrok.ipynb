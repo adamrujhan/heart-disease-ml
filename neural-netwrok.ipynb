{
 "cells": [
  {
   "cell_type": "code",
   "execution_count": null,
   "id": "b9d4bf7d",
   "metadata": {},
   "outputs": [],
   "source": [
    "import pandas as pd\n",
    "import tensorflow as tf\n",
    "from sklearn.utils.class_weight import compute_class_weight\n",
    "import numpy as np\n",
    "import tensorflow as tf\n",
    "from tensorflow.keras import Sequential\n",
    "from tensorflow.keras.layers import Dense, Dropout\n"
   ]
  },
  {
   "cell_type": "markdown",
   "id": "db522f1a",
   "metadata": {},
   "source": [
    "# Load data"
   ]
  },
  {
   "cell_type": "code",
   "execution_count": 3,
   "id": "29c959d4",
   "metadata": {},
   "outputs": [],
   "source": [
    "x_train = pd.read_csv('x_train.csv')\n",
    "y_train = pd.read_csv('y_train.csv')\n",
    "x_val = pd.read_csv('x_val.csv')\n",
    "y_val = pd.read_csv('y_val.csv')\n",
    "x_test = pd.read_csv('x_test.csv')\n",
    "y_test = pd.read_csv('y_test.csv')"
   ]
  },
  {
   "cell_type": "code",
   "execution_count": 4,
   "id": "133cc6a2",
   "metadata": {},
   "outputs": [],
   "source": [
    "# convert to np\n",
    "x_train = x_train.values\n",
    "y_train = y_train.values\n",
    "x_val = x_val.values\n",
    "y_val = y_val.values\n",
    "x_test = x_test.values\n",
    "y_test = y_test.values"
   ]
  },
  {
   "cell_type": "code",
   "execution_count": 5,
   "id": "83183a05",
   "metadata": {},
   "outputs": [],
   "source": [
    "y_train = y_train.ravel()\n",
    "y_val = y_val.ravel()\n",
    "y_test = y_test.ravel()"
   ]
  },
  {
   "cell_type": "markdown",
   "id": "6e17b7ef",
   "metadata": {},
   "source": [
    "# Model Training"
   ]
  },
  {
   "cell_type": "code",
   "execution_count": null,
   "id": "b825e313",
   "metadata": {},
   "outputs": [
    {
     "name": "stdout",
     "output_type": "stream",
     "text": [
      "Class weights: {0: 0.5898876404494382, 1: 3.28125}\n"
     ]
    }
   ],
   "source": [
    "# compute imbalance\n",
    "\n",
    "class_weights = compute_class_weight(\n",
    "    class_weight=\"balanced\",\n",
    "    classes=np.unique(y_train),\n",
    "    y=y_train\n",
    ")\n",
    "class_weights = dict(enumerate(class_weights))\n",
    "print(\"Class weights:\", class_weights)\n"
   ]
  },
  {
   "cell_type": "code",
   "execution_count": null,
   "id": "620b735c",
   "metadata": {},
   "outputs": [
    {
     "name": "stderr",
     "output_type": "stream",
     "text": [
      "c:\\Users\\adamr\\anaconda3\\Lib\\site-packages\\keras\\src\\layers\\core\\dense.py:87: UserWarning: Do not pass an `input_shape`/`input_dim` argument to a layer. When using Sequential models, prefer using an `Input(shape)` object as the first layer in the model instead.\n",
      "  super().__init__(activity_regularizer=activity_regularizer, **kwargs)\n"
     ]
    },
    {
     "name": "stdout",
     "output_type": "stream",
     "text": [
      "Epoch 1/50\n",
      "\u001b[1m83/83\u001b[0m \u001b[32m━━━━━━━━━━━━━━━━━━━━\u001b[0m\u001b[37m\u001b[0m \u001b[1m4s\u001b[0m 14ms/step - accuracy: 0.4647 - loss: 0.7135 - precision_1: 0.1849 - recall_1: 0.6725 - val_accuracy: 0.6187 - val_loss: 0.6529 - val_precision_1: 0.2346 - val_recall_1: 0.6667\n",
      "Epoch 2/50\n",
      "\u001b[1m83/83\u001b[0m \u001b[32m━━━━━━━━━━━━━━━━━━━━\u001b[0m\u001b[37m\u001b[0m \u001b[1m0s\u001b[0m 5ms/step - accuracy: 0.5968 - loss: 0.6545 - precision_1: 0.2059 - recall_1: 0.5853 - val_accuracy: 0.6507 - val_loss: 0.6188 - val_precision_1: 0.2466 - val_recall_1: 0.6316\n",
      "Epoch 3/50\n",
      "\u001b[1m83/83\u001b[0m \u001b[32m━━━━━━━━━━━━━━━━━━━━\u001b[0m\u001b[37m\u001b[0m \u001b[1m1s\u001b[0m 5ms/step - accuracy: 0.6339 - loss: 0.6415 - precision_1: 0.2520 - recall_1: 0.6883 - val_accuracy: 0.6613 - val_loss: 0.6011 - val_precision_1: 0.2500 - val_recall_1: 0.6140\n",
      "Epoch 4/50\n",
      "\u001b[1m83/83\u001b[0m \u001b[32m━━━━━━━━━━━━━━━━━━━━\u001b[0m\u001b[37m\u001b[0m \u001b[1m0s\u001b[0m 5ms/step - accuracy: 0.6330 - loss: 0.6326 - precision_1: 0.2522 - recall_1: 0.6792 - val_accuracy: 0.6453 - val_loss: 0.6005 - val_precision_1: 0.2432 - val_recall_1: 0.6316\n",
      "Epoch 5/50\n",
      "\u001b[1m83/83\u001b[0m \u001b[32m━━━━━━━━━━━━━━━━━━━━\u001b[0m\u001b[37m\u001b[0m \u001b[1m0s\u001b[0m 5ms/step - accuracy: 0.6502 - loss: 0.6291 - precision_1: 0.2702 - recall_1: 0.7049 - val_accuracy: 0.6453 - val_loss: 0.5869 - val_precision_1: 0.2432 - val_recall_1: 0.6316\n",
      "Epoch 6/50\n",
      "\u001b[1m83/83\u001b[0m \u001b[32m━━━━━━━━━━━━━━━━━━━━\u001b[0m\u001b[37m\u001b[0m \u001b[1m0s\u001b[0m 5ms/step - accuracy: 0.6571 - loss: 0.6425 - precision_1: 0.2593 - recall_1: 0.6639 - val_accuracy: 0.6533 - val_loss: 0.5893 - val_precision_1: 0.2517 - val_recall_1: 0.6491\n",
      "Epoch 7/50\n",
      "\u001b[1m83/83\u001b[0m \u001b[32m━━━━━━━━━━━━━━━━━━━━\u001b[0m\u001b[37m\u001b[0m \u001b[1m0s\u001b[0m 5ms/step - accuracy: 0.6531 - loss: 0.6149 - precision_1: 0.2764 - recall_1: 0.7241 - val_accuracy: 0.6747 - val_loss: 0.5720 - val_precision_1: 0.2628 - val_recall_1: 0.6316\n",
      "Epoch 8/50\n",
      "\u001b[1m83/83\u001b[0m \u001b[32m━━━━━━━━━━━━━━━━━━━━\u001b[0m\u001b[37m\u001b[0m \u001b[1m0s\u001b[0m 5ms/step - accuracy: 0.6657 - loss: 0.5959 - precision_1: 0.2601 - recall_1: 0.6955 - val_accuracy: 0.6800 - val_loss: 0.5815 - val_precision_1: 0.2701 - val_recall_1: 0.6491\n",
      "Epoch 9/50\n",
      "\u001b[1m83/83\u001b[0m \u001b[32m━━━━━━━━━━━━━━━━━━━━\u001b[0m\u001b[37m\u001b[0m \u001b[1m1s\u001b[0m 6ms/step - accuracy: 0.6548 - loss: 0.6276 - precision_1: 0.2571 - recall_1: 0.6585 - val_accuracy: 0.6853 - val_loss: 0.5772 - val_precision_1: 0.2741 - val_recall_1: 0.6491\n",
      "Epoch 10/50\n",
      "\u001b[1m83/83\u001b[0m \u001b[32m━━━━━━━━━━━━━━━━━━━━\u001b[0m\u001b[37m\u001b[0m \u001b[1m0s\u001b[0m 5ms/step - accuracy: 0.6707 - loss: 0.6037 - precision_1: 0.2795 - recall_1: 0.6989 - val_accuracy: 0.7013 - val_loss: 0.5698 - val_precision_1: 0.2868 - val_recall_1: 0.6491\n",
      "Epoch 11/50\n",
      "\u001b[1m83/83\u001b[0m \u001b[32m━━━━━━━━━━━━━━━━━━━━\u001b[0m\u001b[37m\u001b[0m \u001b[1m0s\u001b[0m 5ms/step - accuracy: 0.6713 - loss: 0.5859 - precision_1: 0.2909 - recall_1: 0.7147 - val_accuracy: 0.6907 - val_loss: 0.5694 - val_precision_1: 0.2782 - val_recall_1: 0.6491\n",
      "Epoch 12/50\n",
      "\u001b[1m83/83\u001b[0m \u001b[32m━━━━━━━━━━━━━━━━━━━━\u001b[0m\u001b[37m\u001b[0m \u001b[1m0s\u001b[0m 5ms/step - accuracy: 0.6857 - loss: 0.6101 - precision_1: 0.2972 - recall_1: 0.6851 - val_accuracy: 0.6880 - val_loss: 0.5638 - val_precision_1: 0.2727 - val_recall_1: 0.6316\n",
      "Epoch 13/50\n",
      "\u001b[1m83/83\u001b[0m \u001b[32m━━━━━━━━━━━━━━━━━━━━\u001b[0m\u001b[37m\u001b[0m \u001b[1m0s\u001b[0m 5ms/step - accuracy: 0.6634 - loss: 0.6094 - precision_1: 0.2731 - recall_1: 0.6929 - val_accuracy: 0.6800 - val_loss: 0.5774 - val_precision_1: 0.2701 - val_recall_1: 0.6491\n",
      "Epoch 14/50\n",
      "\u001b[1m83/83\u001b[0m \u001b[32m━━━━━━━━━━━━━━━━━━━━\u001b[0m\u001b[37m\u001b[0m \u001b[1m1s\u001b[0m 5ms/step - accuracy: 0.6642 - loss: 0.5930 - precision_1: 0.2593 - recall_1: 0.7202 - val_accuracy: 0.6827 - val_loss: 0.5799 - val_precision_1: 0.2721 - val_recall_1: 0.6491\n",
      "Epoch 15/50\n",
      "\u001b[1m83/83\u001b[0m \u001b[32m━━━━━━━━━━━━━━━━━━━━\u001b[0m\u001b[37m\u001b[0m \u001b[1m0s\u001b[0m 5ms/step - accuracy: 0.6562 - loss: 0.6166 - precision_1: 0.2829 - recall_1: 0.7135 - val_accuracy: 0.6933 - val_loss: 0.5705 - val_precision_1: 0.2803 - val_recall_1: 0.6491\n",
      "Epoch 16/50\n",
      "\u001b[1m83/83\u001b[0m \u001b[32m━━━━━━━━━━━━━━━━━━━━\u001b[0m\u001b[37m\u001b[0m \u001b[1m0s\u001b[0m 5ms/step - accuracy: 0.6726 - loss: 0.6104 - precision_1: 0.2900 - recall_1: 0.7373 - val_accuracy: 0.6960 - val_loss: 0.5677 - val_precision_1: 0.2824 - val_recall_1: 0.6491\n",
      "Epoch 17/50\n",
      "\u001b[1m83/83\u001b[0m \u001b[32m━━━━━━━━━━━━━━━━━━━━\u001b[0m\u001b[37m\u001b[0m \u001b[1m1s\u001b[0m 6ms/step - accuracy: 0.6947 - loss: 0.5651 - precision_1: 0.2759 - recall_1: 0.7083 - val_accuracy: 0.6667 - val_loss: 0.5929 - val_precision_1: 0.2639 - val_recall_1: 0.6667\n",
      "Epoch 18/50\n",
      "\u001b[1m83/83\u001b[0m \u001b[32m━━━━━━━━━━━━━━━━━━━━\u001b[0m\u001b[37m\u001b[0m \u001b[1m0s\u001b[0m 5ms/step - accuracy: 0.6458 - loss: 0.6333 - precision_1: 0.2632 - recall_1: 0.6926 - val_accuracy: 0.7013 - val_loss: 0.5671 - val_precision_1: 0.2868 - val_recall_1: 0.6491\n",
      "Epoch 19/50\n",
      "\u001b[1m83/83\u001b[0m \u001b[32m━━━━━━━━━━━━━━━━━━━━\u001b[0m\u001b[37m\u001b[0m \u001b[1m0s\u001b[0m 5ms/step - accuracy: 0.6799 - loss: 0.5971 - precision_1: 0.2626 - recall_1: 0.6524 - val_accuracy: 0.6907 - val_loss: 0.5765 - val_precision_1: 0.2782 - val_recall_1: 0.6491\n",
      "Epoch 20/50\n",
      "\u001b[1m83/83\u001b[0m \u001b[32m━━━━━━━━━━━━━━━━━━━━\u001b[0m\u001b[37m\u001b[0m \u001b[1m0s\u001b[0m 5ms/step - accuracy: 0.6600 - loss: 0.6067 - precision_1: 0.2722 - recall_1: 0.7043 - val_accuracy: 0.6933 - val_loss: 0.5741 - val_precision_1: 0.2803 - val_recall_1: 0.6491\n",
      "Epoch 21/50\n",
      "\u001b[1m83/83\u001b[0m \u001b[32m━━━━━━━━━━━━━━━━━━━━\u001b[0m\u001b[37m\u001b[0m \u001b[1m0s\u001b[0m 5ms/step - accuracy: 0.6750 - loss: 0.5685 - precision_1: 0.2742 - recall_1: 0.7207 - val_accuracy: 0.6880 - val_loss: 0.5706 - val_precision_1: 0.2727 - val_recall_1: 0.6316\n",
      "Epoch 22/50\n",
      "\u001b[1m83/83\u001b[0m \u001b[32m━━━━━━━━━━━━━━━━━━━━\u001b[0m\u001b[37m\u001b[0m \u001b[1m0s\u001b[0m 5ms/step - accuracy: 0.6875 - loss: 0.5873 - precision_1: 0.3048 - recall_1: 0.7534 - val_accuracy: 0.6933 - val_loss: 0.5652 - val_precision_1: 0.2769 - val_recall_1: 0.6316\n",
      "Epoch 23/50\n",
      "\u001b[1m83/83\u001b[0m \u001b[32m━━━━━━━━━━━━━━━━━━━━\u001b[0m\u001b[37m\u001b[0m \u001b[1m0s\u001b[0m 5ms/step - accuracy: 0.6898 - loss: 0.5715 - precision_1: 0.2898 - recall_1: 0.7311 - val_accuracy: 0.6907 - val_loss: 0.5622 - val_precision_1: 0.2815 - val_recall_1: 0.6667\n",
      "Epoch 24/50\n",
      "\u001b[1m83/83\u001b[0m \u001b[32m━━━━━━━━━━━━━━━━━━━━\u001b[0m\u001b[37m\u001b[0m \u001b[1m0s\u001b[0m 5ms/step - accuracy: 0.6886 - loss: 0.5831 - precision_1: 0.2903 - recall_1: 0.7197 - val_accuracy: 0.6933 - val_loss: 0.5650 - val_precision_1: 0.2769 - val_recall_1: 0.6316\n",
      "Epoch 25/50\n",
      "\u001b[1m83/83\u001b[0m \u001b[32m━━━━━━━━━━━━━━━━━━━━\u001b[0m\u001b[37m\u001b[0m \u001b[1m0s\u001b[0m 5ms/step - accuracy: 0.6822 - loss: 0.6058 - precision_1: 0.2844 - recall_1: 0.6961 - val_accuracy: 0.6933 - val_loss: 0.5649 - val_precision_1: 0.2769 - val_recall_1: 0.6316\n",
      "Epoch 26/50\n",
      "\u001b[1m83/83\u001b[0m \u001b[32m━━━━━━━━━━━━━━━━━━━━\u001b[0m\u001b[37m\u001b[0m \u001b[1m1s\u001b[0m 6ms/step - accuracy: 0.6844 - loss: 0.5785 - precision_1: 0.2872 - recall_1: 0.7245 - val_accuracy: 0.6800 - val_loss: 0.5762 - val_precision_1: 0.2701 - val_recall_1: 0.6491\n",
      "Epoch 27/50\n",
      "\u001b[1m83/83\u001b[0m \u001b[32m━━━━━━━━━━━━━━━━━━━━\u001b[0m\u001b[37m\u001b[0m \u001b[1m0s\u001b[0m 5ms/step - accuracy: 0.6588 - loss: 0.6013 - precision_1: 0.2832 - recall_1: 0.7385 - val_accuracy: 0.6853 - val_loss: 0.5662 - val_precision_1: 0.2707 - val_recall_1: 0.6316\n",
      "Epoch 28/50\n",
      "\u001b[1m83/83\u001b[0m \u001b[32m━━━━━━━━━━━━━━━━━━━━\u001b[0m\u001b[37m\u001b[0m \u001b[1m0s\u001b[0m 5ms/step - accuracy: 0.7122 - loss: 0.5703 - precision_1: 0.2931 - recall_1: 0.6693 - val_accuracy: 0.6880 - val_loss: 0.5756 - val_precision_1: 0.2794 - val_recall_1: 0.6667\n",
      "Epoch 29/50\n",
      "\u001b[1m83/83\u001b[0m \u001b[32m━━━━━━━━━━━━━━━━━━━━\u001b[0m\u001b[37m\u001b[0m \u001b[1m1s\u001b[0m 6ms/step - accuracy: 0.6950 - loss: 0.5857 - precision_1: 0.2865 - recall_1: 0.7072 - val_accuracy: 0.6933 - val_loss: 0.5653 - val_precision_1: 0.2734 - val_recall_1: 0.6140\n",
      "Epoch 30/50\n",
      "\u001b[1m83/83\u001b[0m \u001b[32m━━━━━━━━━━━━━━━━━━━━\u001b[0m\u001b[37m\u001b[0m \u001b[1m0s\u001b[0m 5ms/step - accuracy: 0.6952 - loss: 0.6076 - precision_1: 0.3266 - recall_1: 0.7232 - val_accuracy: 0.7280 - val_loss: 0.5478 - val_precision_1: 0.2973 - val_recall_1: 0.5789\n",
      "Epoch 31/50\n",
      "\u001b[1m83/83\u001b[0m \u001b[32m━━━━━━━━━━━━━━━━━━━━\u001b[0m\u001b[37m\u001b[0m \u001b[1m1s\u001b[0m 5ms/step - accuracy: 0.6968 - loss: 0.5707 - precision_1: 0.2803 - recall_1: 0.6771 - val_accuracy: 0.6987 - val_loss: 0.5759 - val_precision_1: 0.2778 - val_recall_1: 0.6140\n",
      "Epoch 32/50\n",
      "\u001b[1m83/83\u001b[0m \u001b[32m━━━━━━━━━━━━━━━━━━━━\u001b[0m\u001b[37m\u001b[0m \u001b[1m0s\u001b[0m 5ms/step - accuracy: 0.6970 - loss: 0.5723 - precision_1: 0.2906 - recall_1: 0.6803 - val_accuracy: 0.7013 - val_loss: 0.5677 - val_precision_1: 0.2800 - val_recall_1: 0.6140\n",
      "Epoch 33/50\n",
      "\u001b[1m83/83\u001b[0m \u001b[32m━━━━━━━━━━━━━━━━━━━━\u001b[0m\u001b[37m\u001b[0m \u001b[1m0s\u001b[0m 5ms/step - accuracy: 0.6910 - loss: 0.5644 - precision_1: 0.2838 - recall_1: 0.7238 - val_accuracy: 0.6880 - val_loss: 0.5755 - val_precision_1: 0.2692 - val_recall_1: 0.6140\n",
      "Epoch 34/50\n",
      "\u001b[1m83/83\u001b[0m \u001b[32m━━━━━━━━━━━━━━━━━━━━\u001b[0m\u001b[37m\u001b[0m \u001b[1m0s\u001b[0m 5ms/step - accuracy: 0.6956 - loss: 0.5693 - precision_1: 0.2971 - recall_1: 0.7331 - val_accuracy: 0.7013 - val_loss: 0.5633 - val_precision_1: 0.2835 - val_recall_1: 0.6316\n",
      "Epoch 35/50\n",
      "\u001b[1m83/83\u001b[0m \u001b[32m━━━━━━━━━━━━━━━━━━━━\u001b[0m\u001b[37m\u001b[0m \u001b[1m1s\u001b[0m 5ms/step - accuracy: 0.6878 - loss: 0.5592 - precision_1: 0.2794 - recall_1: 0.7356 - val_accuracy: 0.7093 - val_loss: 0.5521 - val_precision_1: 0.2833 - val_recall_1: 0.5965\n",
      "Epoch 36/50\n",
      "\u001b[1m83/83\u001b[0m \u001b[32m━━━━━━━━━━━━━━━━━━━━\u001b[0m\u001b[37m\u001b[0m \u001b[1m1s\u001b[0m 6ms/step - accuracy: 0.7301 - loss: 0.5418 - precision_1: 0.2997 - recall_1: 0.7104 - val_accuracy: 0.6693 - val_loss: 0.5853 - val_precision_1: 0.2590 - val_recall_1: 0.6316\n",
      "Epoch 37/50\n",
      "\u001b[1m83/83\u001b[0m \u001b[32m━━━━━━━━━━━━━━━━━━━━\u001b[0m\u001b[37m\u001b[0m \u001b[1m1s\u001b[0m 6ms/step - accuracy: 0.6638 - loss: 0.5693 - precision_1: 0.2664 - recall_1: 0.7402 - val_accuracy: 0.6907 - val_loss: 0.5697 - val_precision_1: 0.2713 - val_recall_1: 0.6140\n",
      "Epoch 38/50\n",
      "\u001b[1m83/83\u001b[0m \u001b[32m━━━━━━━━━━━━━━━━━━━━\u001b[0m\u001b[37m\u001b[0m \u001b[1m1s\u001b[0m 6ms/step - accuracy: 0.6856 - loss: 0.5778 - precision_1: 0.2847 - recall_1: 0.7026 - val_accuracy: 0.6880 - val_loss: 0.5702 - val_precision_1: 0.2727 - val_recall_1: 0.6316\n",
      "Epoch 39/50\n",
      "\u001b[1m83/83\u001b[0m \u001b[32m━━━━━━━━━━━━━━━━━━━━\u001b[0m\u001b[37m\u001b[0m \u001b[1m0s\u001b[0m 5ms/step - accuracy: 0.7098 - loss: 0.5720 - precision_1: 0.3226 - recall_1: 0.7554 - val_accuracy: 0.7040 - val_loss: 0.5557 - val_precision_1: 0.2787 - val_recall_1: 0.5965\n",
      "Epoch 40/50\n",
      "\u001b[1m83/83\u001b[0m \u001b[32m━━━━━━━━━━━━━━━━━━━━\u001b[0m\u001b[37m\u001b[0m \u001b[1m0s\u001b[0m 5ms/step - accuracy: 0.7051 - loss: 0.5875 - precision_1: 0.3172 - recall_1: 0.7413 - val_accuracy: 0.6907 - val_loss: 0.5555 - val_precision_1: 0.2677 - val_recall_1: 0.5965\n",
      "Epoch 41/50\n",
      "\u001b[1m83/83\u001b[0m \u001b[32m━━━━━━━━━━━━━━━━━━━━\u001b[0m\u001b[37m\u001b[0m \u001b[1m0s\u001b[0m 5ms/step - accuracy: 0.7129 - loss: 0.5473 - precision_1: 0.2868 - recall_1: 0.7302 - val_accuracy: 0.6853 - val_loss: 0.5727 - val_precision_1: 0.2672 - val_recall_1: 0.6140\n",
      "Epoch 42/50\n",
      "\u001b[1m83/83\u001b[0m \u001b[32m━━━━━━━━━━━━━━━━━━━━\u001b[0m\u001b[37m\u001b[0m \u001b[1m0s\u001b[0m 5ms/step - accuracy: 0.6836 - loss: 0.5776 - precision_1: 0.2863 - recall_1: 0.7336 - val_accuracy: 0.7067 - val_loss: 0.5532 - val_precision_1: 0.2773 - val_recall_1: 0.5789\n",
      "Epoch 43/50\n",
      "\u001b[1m83/83\u001b[0m \u001b[32m━━━━━━━━━━━━━━━━━━━━\u001b[0m\u001b[37m\u001b[0m \u001b[1m0s\u001b[0m 5ms/step - accuracy: 0.7057 - loss: 0.5558 - precision_1: 0.3087 - recall_1: 0.7616 - val_accuracy: 0.6880 - val_loss: 0.5744 - val_precision_1: 0.2727 - val_recall_1: 0.6316\n",
      "Epoch 44/50\n",
      "\u001b[1m83/83\u001b[0m \u001b[32m━━━━━━━━━━━━━━━━━━━━\u001b[0m\u001b[37m\u001b[0m \u001b[1m0s\u001b[0m 5ms/step - accuracy: 0.6852 - loss: 0.5711 - precision_1: 0.2910 - recall_1: 0.7389 - val_accuracy: 0.6987 - val_loss: 0.5538 - val_precision_1: 0.2742 - val_recall_1: 0.5965\n",
      "Epoch 45/50\n",
      "\u001b[1m83/83\u001b[0m \u001b[32m━━━━━━━━━━━━━━━━━━━━\u001b[0m\u001b[37m\u001b[0m \u001b[1m0s\u001b[0m 5ms/step - accuracy: 0.7157 - loss: 0.5592 - precision_1: 0.3023 - recall_1: 0.6987 - val_accuracy: 0.6933 - val_loss: 0.5647 - val_precision_1: 0.2734 - val_recall_1: 0.6140\n",
      "Epoch 46/50\n",
      "\u001b[1m83/83\u001b[0m \u001b[32m━━━━━━━━━━━━━━━━━━━━\u001b[0m\u001b[37m\u001b[0m \u001b[1m1s\u001b[0m 5ms/step - accuracy: 0.7051 - loss: 0.5693 - precision_1: 0.3124 - recall_1: 0.7228 - val_accuracy: 0.6960 - val_loss: 0.5588 - val_precision_1: 0.2720 - val_recall_1: 0.5965\n",
      "Epoch 47/50\n",
      "\u001b[1m83/83\u001b[0m \u001b[32m━━━━━━━━━━━━━━━━━━━━\u001b[0m\u001b[37m\u001b[0m \u001b[1m0s\u001b[0m 5ms/step - accuracy: 0.6945 - loss: 0.5698 - precision_1: 0.2874 - recall_1: 0.6892 - val_accuracy: 0.6933 - val_loss: 0.5642 - val_precision_1: 0.2698 - val_recall_1: 0.5965\n",
      "Epoch 48/50\n",
      "\u001b[1m83/83\u001b[0m \u001b[32m━━━━━━━━━━━━━━━━━━━━\u001b[0m\u001b[37m\u001b[0m \u001b[1m0s\u001b[0m 5ms/step - accuracy: 0.7060 - loss: 0.5499 - precision_1: 0.2980 - recall_1: 0.7563 - val_accuracy: 0.6800 - val_loss: 0.5748 - val_precision_1: 0.2632 - val_recall_1: 0.6140\n",
      "Epoch 49/50\n",
      "\u001b[1m83/83\u001b[0m \u001b[32m━━━━━━━━━━━━━━━━━━━━\u001b[0m\u001b[37m\u001b[0m \u001b[1m0s\u001b[0m 5ms/step - accuracy: 0.7074 - loss: 0.5491 - precision_1: 0.3044 - recall_1: 0.7339 - val_accuracy: 0.6827 - val_loss: 0.5697 - val_precision_1: 0.2615 - val_recall_1: 0.5965\n",
      "Epoch 50/50\n",
      "\u001b[1m83/83\u001b[0m \u001b[32m━━━━━━━━━━━━━━━━━━━━\u001b[0m\u001b[37m\u001b[0m \u001b[1m0s\u001b[0m 5ms/step - accuracy: 0.6871 - loss: 0.5806 - precision_1: 0.2694 - recall_1: 0.6560 - val_accuracy: 0.6880 - val_loss: 0.5673 - val_precision_1: 0.2656 - val_recall_1: 0.5965\n"
     ]
    },
    {
     "data": {
      "text/plain": [
       "<keras.src.callbacks.history.History at 0x21a80db68a0>"
      ]
     },
     "execution_count": 9,
     "metadata": {},
     "output_type": "execute_result"
    }
   ],
   "source": [
    "model = Sequential([\n",
    "    Dense(32, activation=\"relu\", input_dim=x_train.shape[1]),\n",
    "    Dropout(0.3),  \n",
    "    Dense(16, activation=\"relu\"),\n",
    "    Dense(1, activation=\"sigmoid\")  \n",
    "])\n",
    "\n",
    "model.compile(optimizer=\"adam\",\n",
    "              loss=\"binary_crossentropy\",\n",
    "              metrics=[\"accuracy\", tf.keras.metrics.Precision(), tf.keras.metrics.Recall()])\n",
    "\n",
    "# Train with class weights\n",
    "model.fit(\n",
    "    x_train, y_train,\n",
    "    epochs=50,\n",
    "    batch_size=32,\n",
    "    validation_data=(x_val, y_val),  \n",
    "    class_weight=class_weights        \n",
    ")\n"
   ]
  },
  {
   "cell_type": "code",
   "execution_count": 11,
   "id": "ec9aa532",
   "metadata": {},
   "outputs": [
    {
     "name": "stdout",
     "output_type": "stream",
     "text": [
      "\u001b[1m24/24\u001b[0m \u001b[32m━━━━━━━━━━━━━━━━━━━━\u001b[0m\u001b[37m\u001b[0m \u001b[1m0s\u001b[0m 6ms/step\n",
      "              precision    recall  f1-score   support\n",
      "\n",
      "           0       0.92      0.66      0.77       636\n",
      "           1       0.27      0.69      0.38       115\n",
      "\n",
      "    accuracy                           0.66       751\n",
      "   macro avg       0.59      0.67      0.58       751\n",
      "weighted avg       0.82      0.66      0.71       751\n",
      "\n"
     ]
    }
   ],
   "source": [
    "from sklearn.metrics import classification_report\n",
    "\n",
    "y_pred = (model.predict(x_test) >= 0.5).astype(int)\n",
    "print(classification_report(y_test, y_pred))"
   ]
  },
  {
   "cell_type": "code",
   "execution_count": 14,
   "id": "f39567c0",
   "metadata": {},
   "outputs": [
    {
     "name": "stdout",
     "output_type": "stream",
     "text": [
      "Results using sklearn LogisticRegression:\n",
      "Accuracy: 0.6631\n",
      "Precision: 0.2669\n",
      "Recall: 0.6870\n",
      "F1 Score: 0.3844\n"
     ]
    }
   ],
   "source": [
    " from sklearn.metrics import accuracy_score, precision_score, recall_score, f1_score, classification_report\n",
    "\n",
    "# Compute metrics\n",
    "accuracy = accuracy_score(y_test, y_pred)\n",
    "precision = precision_score(y_test, y_pred)\n",
    "recall = recall_score(y_test, y_pred)\n",
    "f1 = f1_score(y_test, y_pred)\n",
    "\n",
    "\n",
    "print(\"Results using sklearn LogisticRegression:\")\n",
    "print(f\"Accuracy: {accuracy:.4f}\")\n",
    "print(f\"Precision: {precision:.4f}\")\n",
    "print(f\"Recall: {recall:.4f}\")\n",
    "print(f\"F1 Score: {f1:.4f}\")"
   ]
  },
  {
   "cell_type": "code",
   "execution_count": null,
   "id": "e4faf69a",
   "metadata": {},
   "outputs": [],
   "source": []
  }
 ],
 "metadata": {
  "kernelspec": {
   "display_name": "base",
   "language": "python",
   "name": "python3"
  },
  "language_info": {
   "codemirror_mode": {
    "name": "ipython",
    "version": 3
   },
   "file_extension": ".py",
   "mimetype": "text/x-python",
   "name": "python",
   "nbconvert_exporter": "python",
   "pygments_lexer": "ipython3",
   "version": "3.12.3"
  }
 },
 "nbformat": 4,
 "nbformat_minor": 5
}
